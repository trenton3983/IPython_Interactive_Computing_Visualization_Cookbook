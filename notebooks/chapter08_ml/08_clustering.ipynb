{
 "cells": [
  {
   "cell_type": "markdown",
   "metadata": {},
   "source": [
    "> This is one of the 100 recipes of the [IPython Cookbook](http://ipython-books.github.io/), the definitive guide to high-performance scientific computing and data science in Python.\n"
   ]
  },
  {
   "cell_type": "markdown",
   "metadata": {},
   "source": [
    "# 8.8. Detecting hidden structures in a dataset with clustering"
   ]
  },
  {
   "cell_type": "markdown",
   "metadata": {},
   "source": [
    "1. Let's import the libraries."
   ]
  },
  {
   "cell_type": "code",
   "execution_count": null,
   "metadata": {
    "collapsed": false
   },
   "outputs": [],
   "source": [
    "from itertools import permutations\n",
    "import numpy as np\n",
    "import sklearn\n",
    "import sklearn.decomposition as dec\n",
    "import sklearn.cluster as clu\n",
    "import sklearn.datasets as ds\n",
    "import sklearn.grid_search as gs\n",
    "import matplotlib.pyplot as plt\n",
    "%matplotlib inline\n"
   ]
  },
  {
   "cell_type": "markdown",
   "metadata": {},
   "source": [
    "2. Let's generate a random dataset with three clusters."
   ]
  },
  {
   "cell_type": "code",
   "execution_count": null,
   "metadata": {
    "collapsed": false
   },
   "outputs": [],
   "source": [
    "X, y = ds.make_blobs(n_samples=200, n_features=2, centers=3)"
   ]
  },
  {
   "cell_type": "markdown",
   "metadata": {},
   "source": [
    "3. We will need a couple of functions to relabel and display the results of the clustering algorithms."
   ]
  },
  {
   "cell_type": "code",
   "execution_count": null,
   "metadata": {
    "collapsed": false
   },
   "outputs": [],
   "source": [
    "def relabel(cl):\n",
    "    \"\"\"Relabel a clustering with three clusters\n",
    "    to match the original classes.\"\"\"\n",
    "    if np.max(cl) != 2:\n",
    "        return cl\n",
    "    perms = np.array(list(permutations((0, 1, 2))))\n",
    "    i = np.argmin([np.sum(np.abs(perm[cl] - y))\n",
    "                   for perm in perms])\n",
    "    p = perms[i]\n",
    "    return p[cl]"
   ]
  },
  {
   "cell_type": "code",
   "execution_count": null,
   "metadata": {
    "collapsed": false
   },
   "outputs": [],
   "source": [
    "def display_clustering(labels, title):\n",
    "    \"\"\"Plot the data points with the cluster colors.\"\"\"\n",
    "    # We relabel the classes when there are 3 clusters.\n",
    "    labels = relabel(labels)\n",
    "    plt.figure(figsize=(8,3));\n",
    "    # Display the points with the true labels on the left, \n",
    "    # and with the clustering labels on the right.\n",
    "    for i, (c, title) in enumerate(zip(\n",
    "            [y, labels], [\"True labels\", title])):\n",
    "        plt.subplot(121 + i);\n",
    "        plt.scatter(X[:,0], X[:,1], c=c, s=30, \n",
    "                    linewidths=0, cmap=plt.cm.rainbow);\n",
    "        plt.xticks([]); plt.yticks([]);\n",
    "        plt.title(title);"
   ]
  },
  {
   "cell_type": "markdown",
   "metadata": {},
   "source": [
    "4. Now, we cluster the dataset with the **K-means** algorithm, a classic and simple clustering algorithm."
   ]
  },
  {
   "cell_type": "code",
   "execution_count": null,
   "metadata": {
    "collapsed": false
   },
   "outputs": [],
   "source": [
    "km = clu.KMeans()\n",
    "km.fit(X);\n",
    "display_clustering(km.labels_, \"KMeans\")"
   ]
  },
  {
   "cell_type": "markdown",
   "metadata": {},
   "source": [
    "5. This algorithm requires the number of clusters at initialization time. In general, however, we do not necessarily now the number of clusters in the dataset. Here, let's try with `n_clusters=3` (that's cheating, because we happen to know that there are 3 clusters!)."
   ]
  },
  {
   "cell_type": "code",
   "execution_count": null,
   "metadata": {
    "collapsed": false
   },
   "outputs": [],
   "source": [
    "km = clu.KMeans(n_clusters=3)\n",
    "km.fit(X);\n",
    "display_clustering(km.labels_, \"KMeans(3)\")"
   ]
  },
  {
   "cell_type": "markdown",
   "metadata": {},
   "source": [
    "6. Let's try a few other clustering algorithms implemented in scikit-learn. The simplicity of the API makes it really easy to try different methods: it is just a matter of changing the name of the class."
   ]
  },
  {
   "cell_type": "code",
   "execution_count": null,
   "metadata": {
    "collapsed": false
   },
   "outputs": [],
   "source": [
    "plt.figure(figsize=(8,5));\n",
    "plt.subplot(231);\n",
    "plt.scatter(X[:,0], X[:,1], c=y, s=30,\n",
    "            linewidths=0, cmap=plt.cm.rainbow);\n",
    "plt.xticks([]); plt.yticks([]);\n",
    "plt.title(\"True labels\");\n",
    "for i, est in enumerate([\n",
    "        clu.SpectralClustering(3),\n",
    "        clu.AgglomerativeClustering(3),\n",
    "        clu.MeanShift(),\n",
    "        clu.AffinityPropagation(),\n",
    "        clu.DBSCAN(),\n",
    "    ]):\n",
    "    est.fit(X);\n",
    "    c = relabel(est.labels_)\n",
    "    plt.subplot(232 + i);\n",
    "    plt.scatter(X[:,0], X[:,1], c=c, s=30,\n",
    "                linewidths=0, cmap=plt.cm.rainbow);\n",
    "    plt.xticks([]); plt.yticks([]);\n",
    "    plt.title(est.__class__.__name__);"
   ]
  },
  {
   "cell_type": "markdown",
   "metadata": {},
   "source": [
    "The first two algorithms required the number of clusters as input. The next two did not, but they were able to find the right number 3. The last two failed at finding the correct number of clusters (*overclustering*)."
   ]
  },
  {
   "cell_type": "markdown",
   "metadata": {},
   "source": [
    "> You'll find all the explanations, figures, references, and much more in the book (to be released later this summer).\n",
    "\n",
    "> [IPython Cookbook](http://ipython-books.github.io/), by [Cyrille Rossant](http://cyrille.rossant.net), Packt Publishing, 2014 (500 pages)."
   ]
  }
 ],
 "metadata": {
  "kernelspec": {
   "display_name": "Python 3",
   "language": "python",
   "name": "python3"
  },
  "language_info": {
   "codemirror_mode": {
    "name": "ipython",
    "version": 3
   },
   "file_extension": ".py",
   "mimetype": "text/x-python",
   "name": "python",
   "nbconvert_exporter": "python",
   "pygments_lexer": "ipython3",
   "version": "3.4.2"
  }
 },
 "nbformat": 4,
 "nbformat_minor": 0
}
