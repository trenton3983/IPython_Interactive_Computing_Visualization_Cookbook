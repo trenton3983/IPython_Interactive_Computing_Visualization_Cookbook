{
 "cells": [
  {
   "cell_type": "markdown",
   "metadata": {},
   "source": [
    "> This is one of the 100 recipes of the [IPython Cookbook](http://ipython-books.github.io/), the definitive guide to high-performance scientific computing and data science in Python.\n"
   ]
  },
  {
   "cell_type": "markdown",
   "metadata": {},
   "source": [
    "# 11.6. Applying digital filters to speech sounds"
   ]
  },
  {
   "cell_type": "markdown",
   "metadata": {},
   "source": [
    "> **PYTHON 2 VERSION**"
   ]
  },
  {
   "cell_type": "markdown",
   "metadata": {},
   "source": [
    "You need the pydub package: you can install it with `pip install pydub`. (https://github.com/jiaaro/pydub/)"
   ]
  },
  {
   "cell_type": "markdown",
   "metadata": {},
   "source": [
    "This package requires the open-source multimedia library FFmpeg for the decompression of MP3 files. (http://www.ffmpeg.org)"
   ]
  },
  {
   "cell_type": "markdown",
   "metadata": {},
   "source": [
    "1. Let's import the packages."
   ]
  },
  {
   "cell_type": "code",
   "execution_count": null,
   "metadata": {
    "collapsed": false
   },
   "outputs": [],
   "source": [
    "import urllib\n",
    "import urllib2\n",
    "import cStringIO\n",
    "import numpy as np\n",
    "import scipy.signal as sg\n",
    "import pydub\n",
    "import matplotlib.pyplot as plt\n",
    "from IPython.display import Audio, display\n",
    "%matplotlib inline"
   ]
  },
  {
   "cell_type": "markdown",
   "metadata": {},
   "source": [
    "2. We create a Python function to generate a sound from an English sentence. This function uses Google's Text-To-Speech (TTT) API. We retrieve the sound in mp3 format, and we convert it to the Wave format with pydub. Finally, we retrieve the raw sound data by removing the wave header with NumPy."
   ]
  },
  {
   "cell_type": "code",
   "execution_count": null,
   "metadata": {
    "collapsed": false
   },
   "outputs": [],
   "source": [
    "def speak(sentence):\n",
    "    url = \"http://translate.google.com/translate_tts?tl=en&q=\" + \\\n",
    "          urllib.quote_plus(sentence)\n",
    "    req = urllib2.Request(url, headers={'User-Agent': ''}) \n",
    "    mp3 = urllib2.urlopen(req).read()\n",
    "    # We convert the mp3 bytes to wav.\n",
    "    audio = pydub.AudioSegment.from_mp3(cStringIO.StringIO(mp3))\n",
    "    wave = audio.export(cStringIO.StringIO(), format='wav')\n",
    "    wave.reset()\n",
    "    wave = wave.read()\n",
    "    # We get the raw data by removing the 24 first bytes \n",
    "    # of the header.\n",
    "    x = np.frombuffer(wave, np.int16)[24:] / 2.**15\n",
    "    return x, audio.frame_rate"
   ]
  },
  {
   "cell_type": "markdown",
   "metadata": {},
   "source": [
    "3. We create a function that plays a sound (represented by a NumPy vector) in the notebook, using IPython's `Audio` class."
   ]
  },
  {
   "cell_type": "code",
   "execution_count": null,
   "metadata": {
    "collapsed": false
   },
   "outputs": [],
   "source": [
    "def play(x, fr, autoplay=False):\n",
    "    display(Audio(x, rate=fr, autoplay=autoplay))"
   ]
  },
  {
   "cell_type": "markdown",
   "metadata": {},
   "source": [
    "4. Let's play the sound \"Hello world\". We also display the waveform with matplotlib."
   ]
  },
  {
   "cell_type": "code",
   "execution_count": null,
   "metadata": {
    "collapsed": false
   },
   "outputs": [],
   "source": [
    "x, fr = speak(\"Hello world\")\n",
    "play(x, fr)\n",
    "plt.figure(figsize=(6,3));\n",
    "t = np.linspace(0., len(x)/fr, len(x))\n",
    "plt.plot(t, x, lw=1);"
   ]
  },
  {
   "cell_type": "markdown",
   "metadata": {},
   "source": [
    "5. Now, we will hear the effect of a Butterworth low-pass filter applied to this sound (500 Hz cutoff frequency)."
   ]
  },
  {
   "cell_type": "code",
   "execution_count": null,
   "metadata": {
    "collapsed": false
   },
   "outputs": [],
   "source": [
    "b, a = sg.butter(4, 500./(fr/2.), 'low')\n",
    "x_fil = sg.filtfilt(b, a, x)"
   ]
  },
  {
   "cell_type": "code",
   "execution_count": null,
   "metadata": {
    "collapsed": false
   },
   "outputs": [],
   "source": [
    "play(x_fil, fr)\n",
    "plt.figure(figsize=(6,3));\n",
    "plt.plot(t, x, lw=1);\n",
    "plt.plot(t, x_fil, lw=1);"
   ]
  },
  {
   "cell_type": "markdown",
   "metadata": {},
   "source": [
    "We hear a muffled voice."
   ]
  },
  {
   "cell_type": "markdown",
   "metadata": {},
   "source": [
    "6. And now with a high-pass filter (1000 Hz cutoff frequency)."
   ]
  },
  {
   "cell_type": "code",
   "execution_count": null,
   "metadata": {
    "collapsed": false
   },
   "outputs": [],
   "source": [
    "b, a = sg.butter(4, 1000./(fr/2.), 'high')\n",
    "x_fil = sg.filtfilt(b, a, x)"
   ]
  },
  {
   "cell_type": "code",
   "execution_count": null,
   "metadata": {
    "collapsed": false
   },
   "outputs": [],
   "source": [
    "play(x_fil, fr)\n",
    "plt.figure(figsize=(6,3));\n",
    "plt.plot(t, x, lw=1);\n",
    "plt.plot(t, x_fil, lw=1);"
   ]
  },
  {
   "cell_type": "markdown",
   "metadata": {},
   "source": [
    "It sounds like a phone call."
   ]
  },
  {
   "cell_type": "markdown",
   "metadata": {},
   "source": [
    "7. Finally, we can create a simple widget to quickly test the effect of a high-pass filter with an arbitrary cutoff frequency."
   ]
  },
  {
   "cell_type": "code",
   "execution_count": null,
   "metadata": {
    "collapsed": false
   },
   "outputs": [],
   "source": [
    "from IPython.html import widgets\n",
    "@widgets.interact(t=(100., 5000., 100.))\n",
    "def highpass(t):\n",
    "    b, a = sg.butter(4, t/(fr/2.), 'high')\n",
    "    x_fil = sg.filtfilt(b, a, x)\n",
    "    play(x_fil, fr, autoplay=True)"
   ]
  },
  {
   "cell_type": "markdown",
   "metadata": {},
   "source": [
    "> You'll find all the explanations, figures, references, and much more in the book (to be released later this summer).\n",
    "\n",
    "> [IPython Cookbook](http://ipython-books.github.io/), by [Cyrille Rossant](http://cyrille.rossant.net), Packt Publishing, 2014 (500 pages)."
   ]
  }
 ],
 "metadata": {
  "kernelspec": {
   "display_name": "Python 2",
   "language": "python",
   "name": "python2"
  },
  "language_info": {
   "codemirror_mode": {
    "name": "ipython",
    "version": 2
   },
   "file_extension": ".py",
   "mimetype": "text/x-python",
   "name": "python",
   "nbconvert_exporter": "python",
   "pygments_lexer": "ipython2",
   "version": "2.7.9"
  }
 },
 "nbformat": 4,
 "nbformat_minor": 0
}
